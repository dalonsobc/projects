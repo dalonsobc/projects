{
 "cells": [
  {
   "cell_type": "code",
   "execution_count": 1,
   "metadata": {},
   "outputs": [],
   "source": [
    "import pandas as pd\n",
    "import numpy as np\n",
    "import torch\n",
    "from torchtext.data.utils import get_tokenizer\n",
    "from torchtext.vocab import vocab\n",
    "from collections import Counter\n",
    "import torch\n",
    "import torch.nn as nn\n",
    "import torch.nn.functional as F\n",
    "from torch.utils.data import Dataset, DataLoader\n",
    "import math\n",
    "import time\n",
    "from tqdm import tqdm\n",
    "\n",
    "filepath = 'WikiQACorpus/'"
   ]
  },
  {
   "cell_type": "code",
   "execution_count": 2,
   "metadata": {},
   "outputs": [
    {
     "name": "stdout",
     "output_type": "stream",
     "text": [
      "100000\n"
     ]
    }
   ],
   "source": [
    "# Load the dataset\n",
    "train_tsv = pd.read_csv(filepath + 'WikiQA-train.tsv', sep='\\t')\n",
    "train_tsv['Text'] = train_tsv.apply(lambda row: f\"{row['Question']} {row['Sentence']}\", axis=1) # Concatenate Qs and As\n",
    "text_corpus = ' '.join(train_tsv['Text'])\n",
    "\n",
    "# Use the basic whitespace tokenizer\n",
    "tokenizer = get_tokenizer(\"basic_english\")\n",
    "tokens = tokenizer(text_corpus)\n",
    "tokens = tokens[:100000]\n",
    "print(len(tokens))\n",
    "\n",
    "# Build a vocabulary from the tokens\n",
    "token_counts = Counter(tokens)\n",
    "vocab_obj = vocab(token_counts, specials=[\"<unk>\", \"<pad>\"])\n",
    "vocab_obj.set_default_index(vocab_obj[\"<unk>\"])  # Set default index for unknown tokens\n",
    "numericalized_tokens = [vocab_obj[token] for token in tokens]"
   ]
  },
  {
   "cell_type": "code",
   "execution_count": 3,
   "metadata": {},
   "outputs": [],
   "source": [
    "class PositionalEncoding(nn.Module):\n",
    "    def __init__(self, d_model, max_len=5000):\n",
    "        super().__init__()\n",
    "        \n",
    "        # Create positional encoding matrix\n",
    "        pe = torch.zeros(1, max_len, d_model)\n",
    "        position = torch.arange(0, max_len).unsqueeze(0).unsqueeze(2)\n",
    "        div_term = torch.exp(torch.arange(0, d_model, 2) * (-math.log(10000.0) / d_model))\n",
    "        pe[0, :, 0::2] = torch.sin(position * div_term)\n",
    "        pe[0, :, 1::2] = torch.cos(position * div_term)\n",
    "        self.register_buffer('pe', pe)\n",
    "\n",
    "    def forward(self, x):\n",
    "        return x + self.pe[:, :x.size(1), :] # x shape: [batch_size, seq_len, d_model]"
   ]
  },
  {
   "cell_type": "code",
   "execution_count": 4,
   "metadata": {},
   "outputs": [],
   "source": [
    "class TransformerLanguageModel(nn.Module):\n",
    "    def __init__(self, vocab_size, d_model=512, nhead=8, num_layers=6, dim_feedforward=2048, dropout=0.1):\n",
    "        super().__init__()\n",
    "        \n",
    "        self.d_model = d_model\n",
    "        self.embedding = nn.Embedding(vocab_size, d_model)\n",
    "        self.pos_encoder = PositionalEncoding(d_model)\n",
    "        \n",
    "        # Create transformer decoder layers\n",
    "        decoder_layer = nn.TransformerDecoderLayer(\n",
    "            d_model=d_model,\n",
    "            nhead=nhead,\n",
    "            dim_feedforward=dim_feedforward,\n",
    "            dropout=dropout,\n",
    "            batch_first=True\n",
    "        )\n",
    "        self.transformer_decoder = nn.TransformerDecoder(decoder_layer, num_layers=num_layers)\n",
    "        \n",
    "        self.output_layer = nn.Linear(d_model, vocab_size)\n",
    "\n",
    "        # Enable attention weight output\n",
    "        for layer in self.transformer_decoder.layers:\n",
    "            layer.self_attn.need_weights = True\n",
    "        \n",
    "        self.init_weights()\n",
    "    \n",
    "    def init_weights(self):\n",
    "        initrange = 0.1\n",
    "        self.embedding.weight.data.uniform_(-initrange, initrange)\n",
    "        self.output_layer.bias.data.zero_()\n",
    "        self.output_layer.weight.data.uniform_(-initrange, initrange)\n",
    "    \n",
    "    def forward(self, src, return_attn=False):\n",
    "        # src shape: [batch_size, seq_len]\n",
    "        \n",
    "        tgt_mask = nn.Transformer.generate_square_subsequent_mask(src.size(1)).to(src.device)\n",
    "        \n",
    "        # Embed and apply positional encoding\n",
    "        src = self.embedding(src) * math.sqrt(self.d_model)\n",
    "        src = self.pos_encoder(src)\n",
    "\n",
    "        # output = self.transformer_decoder(src, src, tgt_mask=tgt_mask)\n",
    "        # attn_weights = [layer.self_attn.get_weights() for layer in self.transformer_decoder.layers]\n",
    "        \n",
    "        attn_weights = []\n",
    "        x = src\n",
    "        for layer in self.transformer_decoder.layers:\n",
    "            x = layer.norm1(x + layer.dropout1(layer.self_attn(x, x, x, attn_mask=tgt_mask, need_weights=True)[0]))\n",
    "            attn_weights.append(layer.self_attn(x, x, x, need_weights=True)[1])\n",
    "\n",
    "        # Transform\n",
    "        output = self.output_layer(x)\n",
    "        return (output, attn_weights) if return_attn else output"
   ]
  },
  {
   "cell_type": "code",
   "execution_count": 5,
   "metadata": {},
   "outputs": [],
   "source": [
    "class TextDataset(Dataset):\n",
    "    def __init__(self, tokens, seq_length):\n",
    "        self.tokens = tokens\n",
    "        self.seq_length = seq_length\n",
    "        \n",
    "    def __len__(self):\n",
    "        return len(self.tokens) - self.seq_length\n",
    "        \n",
    "    def __getitem__(self, idx):\n",
    "        input_seq = self.tokens[idx:idx + self.seq_length]\n",
    "        target_seq = self.tokens[idx + 1:idx + self.seq_length + 1]\n",
    "        return torch.tensor(input_seq), torch.tensor(target_seq)"
   ]
  },
  {
   "cell_type": "code",
   "execution_count": 6,
   "metadata": {},
   "outputs": [],
   "source": [
    "import matplotlib.pyplot as plt\n",
    "import os\n",
    "\n",
    "def visualize_attention(epoch, attn_weights, save_dir=\"attention_visuals\"):\n",
    "    os.makedirs(save_dir, exist_ok=True)\n",
    "    num_layers = len(attn_weights)\n",
    "    \n",
    "    for layer_idx, layer_weights in enumerate(attn_weights):\n",
    "        # layer_weights shape: [batch_size, num_heads, seq_len, seq_len]\n",
    "        for head_idx, head_weights in enumerate(layer_weights[0]):  # Select first sample in batch\n",
    "            plt.figure(figsize=(8, 8))\n",
    "            plt.imshow(head_weights.detach().cpu().numpy(), cmap=\"viridis\")\n",
    "            plt.colorbar()\n",
    "            plt.title(f\"Epoch {epoch + 1} - Layer {layer_idx + 1}, Head {head_idx + 1}\")\n",
    "            plt.xlabel(\"Key Sequence\")\n",
    "            plt.ylabel(\"Query Sequence\")\n",
    "            plt.savefig(f\"{save_dir}/epoch{epoch + 1}_layer{layer_idx + 1}_head{head_idx + 1}.png\")\n",
    "            plt.close()"
   ]
  },
  {
   "cell_type": "code",
   "execution_count": 7,
   "metadata": {},
   "outputs": [],
   "source": [
    "def train_model(model, train_loader, val_loader, criterion, optimizer, device, epochs=10):\n",
    "    model.train()\n",
    "    total_batches = len(train_loader)\n",
    "    history = {\n",
    "        'train_loss': [], 'train_perplexity': [], \n",
    "        'val_loss': [], 'val_perplexity': [], \n",
    "        'attn_weights': []\n",
    "    }\n",
    "\n",
    "    def evaluate():\n",
    "        model.eval()\n",
    "        val_losses = []\n",
    "        val_perplexities = []\n",
    "        \n",
    "        with torch.no_grad():\n",
    "            with tqdm(total=len(val_loader), desc='Validation', unit='batch') as pbar:\n",
    "                for data, target in val_loader:\n",
    "                    data, target = data.to(device), target.to(device)\n",
    "                    output = model(data)\n",
    "                    output = output.view(-1, output.size(-1))\n",
    "                    target = target.view(-1)\n",
    "                    \n",
    "                    loss = criterion(output, target).item()\n",
    "                    perplexity = math.exp(loss)\n",
    "                    \n",
    "                    val_losses.append(loss)\n",
    "                    val_perplexities.append(perplexity)\n",
    "                    \n",
    "                    pbar.set_postfix(loss=f'{loss:.4f}', perplexity=f'{perplexity:.2f}')\n",
    "                    pbar.update(1)\n",
    "        \n",
    "        return np.mean(val_losses), np.mean(val_perplexities)\n",
    "\n",
    "    for epoch in range(epochs):\n",
    "        model.train()\n",
    "        epoch_losses = []\n",
    "        epoch_perplexities = []\n",
    "\n",
    "        with tqdm(total=total_batches, desc=f'Epoch {epoch + 1}/{epochs}', unit='batch') as pbar:\n",
    "            for batch_idx, (data, target) in enumerate(train_loader):\n",
    "                data, target = data.to(device), target.to(device)\n",
    "                \n",
    "                optimizer.zero_grad()\n",
    "                output, attn_weights = model(data, return_attn=True)\n",
    "                \n",
    "                # Reshape output and target for cross-entropy loss\n",
    "                output = output.view(-1, output.size(-1))\n",
    "                target = target.view(-1)\n",
    "                \n",
    "                loss = criterion(output, target)\n",
    "                loss.backward()\n",
    "                \n",
    "                torch.nn.utils.clip_grad_norm_(model.parameters(), 0.5)\n",
    "                optimizer.step()\n",
    "                \n",
    "                #Calculate batch metrics\n",
    "                batch_loss = loss.item()\n",
    "                batch_perplexity = math.exp(batch_loss)\n",
    "\n",
    "                epoch_losses.append(batch_loss)\n",
    "                epoch_perplexities.append(batch_perplexity)\n",
    "\n",
    "                pbar.set_postfix(loss=f'{batch_loss:.4f}', perplexity=f'{batch_perplexity:.2f}')\n",
    "                pbar.update(1)\n",
    "                \n",
    "        # Run Validation\n",
    "        val_loss, val_perplexity = evaluate()\n",
    "\n",
    "        # Calculate epoch metrics\n",
    "        train_loss = np.mean(epoch_losses)\n",
    "        train_perplexity = np.mean(epoch_perplexities)\n",
    "        # epoch_time = time.time() - start_time\n",
    "\n",
    "        history['train_loss'].append(train_loss)\n",
    "        history['train_perplexity'].append(train_perplexity)\n",
    "        history['val_loss'].append(val_loss)\n",
    "        history['val_perplexity'].append(val_perplexity)\n",
    "        history['attn_weights'].append(attn_weights)\n",
    "\n",
    "        print(f'\\nEpoch {epoch + 1} Summary:')\n",
    "        print(f'Train Loss: {train_loss:.4f}, Train Perplexity: {train_perplexity:.2f}')\n",
    "        print(f'Val Loss: {val_loss:.4f}, Val Perplexity: {val_perplexity:.2f}\\n')\n",
    "\n",
    "    return history"
   ]
  },
  {
   "cell_type": "code",
   "execution_count": null,
   "metadata": {},
   "outputs": [
    {
     "name": "stderr",
     "output_type": "stream",
     "text": [
      "Epoch 1/10: 100%|██████████| 1250/1250 [08:12<00:00,  2.54batch/s, loss=2.2171, perplexity=9.18]  \n",
      "Validation: 100%|██████████| 313/313 [00:50<00:00,  6.22batch/s, loss=2.0526, perplexity=7.79]\n"
     ]
    },
    {
     "name": "stdout",
     "output_type": "stream",
     "text": [
      "\n",
      "Epoch 1 Summary:\n",
      "Train Loss: 4.1472, Train Perplexity: 292.71\n",
      "Val Loss: 2.0805, Val Perplexity: 8.02\n",
      "\n"
     ]
    },
    {
     "name": "stderr",
     "output_type": "stream",
     "text": [
      "Epoch 2/10: 100%|██████████| 1250/1250 [08:40<00:00,  2.40batch/s, loss=0.6820, perplexity=1.98]\n",
      "Validation: 100%|██████████| 313/313 [00:50<00:00,  6.24batch/s, loss=0.5598, perplexity=1.75]\n"
     ]
    },
    {
     "name": "stdout",
     "output_type": "stream",
     "text": [
      "\n",
      "Epoch 2 Summary:\n",
      "Train Loss: 1.2596, Train Perplexity: 3.88\n",
      "Val Loss: 0.5543, Val Perplexity: 1.74\n",
      "\n"
     ]
    },
    {
     "name": "stderr",
     "output_type": "stream",
     "text": [
      "Epoch 3/10: 100%|██████████| 1250/1250 [08:59<00:00,  2.32batch/s, loss=0.3705, perplexity=1.45]\n",
      "Validation: 100%|██████████| 313/313 [00:53<00:00,  5.88batch/s, loss=0.3538, perplexity=1.42]\n"
     ]
    },
    {
     "name": "stdout",
     "output_type": "stream",
     "text": [
      "\n",
      "Epoch 3 Summary:\n",
      "Train Loss: 0.4820, Train Perplexity: 1.62\n",
      "Val Loss: 0.3358, Val Perplexity: 1.40\n",
      "\n"
     ]
    },
    {
     "name": "stderr",
     "output_type": "stream",
     "text": [
      "Epoch 4/10: 100%|██████████| 1250/1250 [09:06<00:00,  2.29batch/s, loss=0.3795, perplexity=1.46]\n",
      "Validation: 100%|██████████| 313/313 [00:53<00:00,  5.89batch/s, loss=0.2965, perplexity=1.35]\n"
     ]
    },
    {
     "name": "stdout",
     "output_type": "stream",
     "text": [
      "\n",
      "Epoch 4 Summary:\n",
      "Train Loss: 0.3344, Train Perplexity: 1.40\n",
      "Val Loss: 0.2899, Val Perplexity: 1.34\n",
      "\n"
     ]
    },
    {
     "name": "stderr",
     "output_type": "stream",
     "text": [
      "Epoch 5/10: 100%|██████████| 1250/1250 [09:04<00:00,  2.29batch/s, loss=0.2827, perplexity=1.33]\n",
      "Validation: 100%|██████████| 313/313 [00:52<00:00,  5.92batch/s, loss=0.2944, perplexity=1.34]\n"
     ]
    },
    {
     "name": "stdout",
     "output_type": "stream",
     "text": [
      "\n",
      "Epoch 5 Summary:\n",
      "Train Loss: 0.2832, Train Perplexity: 1.33\n",
      "Val Loss: 0.2723, Val Perplexity: 1.31\n",
      "\n"
     ]
    },
    {
     "name": "stderr",
     "output_type": "stream",
     "text": [
      "Epoch 6/10: 100%|██████████| 1250/1250 [09:10<00:00,  2.27batch/s, loss=0.2502, perplexity=1.28]\n",
      "Validation: 100%|██████████| 313/313 [00:52<00:00,  5.92batch/s, loss=0.2847, perplexity=1.33]\n"
     ]
    },
    {
     "name": "stdout",
     "output_type": "stream",
     "text": [
      "\n",
      "Epoch 6 Summary:\n",
      "Train Loss: 0.2569, Train Perplexity: 1.29\n",
      "Val Loss: 0.2642, Val Perplexity: 1.30\n",
      "\n"
     ]
    },
    {
     "name": "stderr",
     "output_type": "stream",
     "text": [
      "Epoch 7/10: 100%|██████████| 1250/1250 [09:04<00:00,  2.29batch/s, loss=0.2304, perplexity=1.26]\n",
      "Validation: 100%|██████████| 313/313 [00:52<00:00,  5.92batch/s, loss=0.2716, perplexity=1.31]\n"
     ]
    },
    {
     "name": "stdout",
     "output_type": "stream",
     "text": [
      "\n",
      "Epoch 7 Summary:\n",
      "Train Loss: 0.2412, Train Perplexity: 1.27\n",
      "Val Loss: 0.2606, Val Perplexity: 1.30\n",
      "\n"
     ]
    },
    {
     "name": "stderr",
     "output_type": "stream",
     "text": [
      "Epoch 8/10: 100%|██████████| 1250/1250 [09:06<00:00,  2.29batch/s, loss=0.2391, perplexity=1.27]\n",
      "Validation: 100%|██████████| 313/313 [00:53<00:00,  5.86batch/s, loss=0.2791, perplexity=1.32]\n"
     ]
    },
    {
     "name": "stdout",
     "output_type": "stream",
     "text": [
      "\n",
      "Epoch 8 Summary:\n",
      "Train Loss: 0.2310, Train Perplexity: 1.26\n",
      "Val Loss: 0.2594, Val Perplexity: 1.30\n",
      "\n"
     ]
    },
    {
     "name": "stderr",
     "output_type": "stream",
     "text": [
      "Epoch 9/10: 100%|██████████| 1250/1250 [09:02<00:00,  2.30batch/s, loss=0.2155, perplexity=1.24]\n",
      "Validation: 100%|██████████| 313/313 [00:52<00:00,  5.93batch/s, loss=0.2821, perplexity=1.33]\n"
     ]
    },
    {
     "name": "stdout",
     "output_type": "stream",
     "text": [
      "\n",
      "Epoch 9 Summary:\n",
      "Train Loss: 0.2237, Train Perplexity: 1.25\n",
      "Val Loss: 0.2584, Val Perplexity: 1.30\n",
      "\n"
     ]
    },
    {
     "name": "stderr",
     "output_type": "stream",
     "text": [
      "Epoch 10/10: 100%|██████████| 1250/1250 [08:57<00:00,  2.33batch/s, loss=0.2235, perplexity=1.25]\n",
      "Validation: 100%|██████████| 313/313 [00:51<00:00,  6.05batch/s, loss=0.2773, perplexity=1.32]\n"
     ]
    },
    {
     "name": "stdout",
     "output_type": "stream",
     "text": [
      "\n",
      "Epoch 10 Summary:\n",
      "Train Loss: 0.2180, Train Perplexity: 1.24\n",
      "Val Loss: 0.2574, Val Perplexity: 1.29\n",
      "\n"
     ]
    },
    {
     "ename": "AttributeError",
     "evalue": "module 'pickle' has no attribute 'dumpe'",
     "output_type": "error",
     "traceback": [
      "\u001b[0;31m---------------------------------------------------------------------------\u001b[0m",
      "\u001b[0;31mAttributeError\u001b[0m                            Traceback (most recent call last)",
      "Cell \u001b[0;32mIn[8], line 31\u001b[0m\n\u001b[1;32m     29\u001b[0m \u001b[38;5;28;01mwith\u001b[39;00m \u001b[38;5;28mopen\u001b[39m(\u001b[38;5;124m'\u001b[39m\u001b[38;5;124mq3_history.pkl\u001b[39m\u001b[38;5;124m'\u001b[39m, \u001b[38;5;124m'\u001b[39m\u001b[38;5;124mwb\u001b[39m\u001b[38;5;124m'\u001b[39m) \u001b[38;5;28;01mas\u001b[39;00m f:\n\u001b[1;32m     30\u001b[0m     \u001b[38;5;28;01mimport\u001b[39;00m \u001b[38;5;21;01mpickle\u001b[39;00m\n\u001b[0;32m---> 31\u001b[0m     \u001b[43mpickle\u001b[49m\u001b[38;5;241;43m.\u001b[39;49m\u001b[43mdumpe\u001b[49m(history, f)\n",
      "\u001b[0;31mAttributeError\u001b[0m: module 'pickle' has no attribute 'dumpe'"
     ]
    }
   ],
   "source": [
    "# Hyperparameters\n",
    "BATCH_SIZE = 64\n",
    "SEQ_LENGTH = 32\n",
    "LEARNING_RATE = 0.0001\n",
    "\n",
    "# Create dataset and split into train/val\n",
    "dataset = TextDataset(numericalized_tokens, SEQ_LENGTH)\n",
    "train_size = int(0.8 * len(dataset))\n",
    "val_size = len(dataset) - train_size\n",
    "train_dataset, val_dataset = torch.utils.data.random_split(dataset, [train_size, val_size])\n",
    "\n",
    "# Create DataLoaders\n",
    "train_loader = DataLoader(train_dataset, batch_size=BATCH_SIZE, shuffle=True)\n",
    "val_loader = DataLoader(val_dataset, batch_size=BATCH_SIZE)\n",
    "\n",
    "# Initialize model and move to device\n",
    "device = torch.device('cuda' if torch.cuda.is_available() else 'cpu')\n",
    "model = TransformerLanguageModel(len(vocab_obj), num_layers=4).to(device)\n",
    "\n",
    "# Loss and optimizer\n",
    "criterion = nn.CrossEntropyLoss()\n",
    "optimizer = torch.optim.Adam(model.parameters(), lr=LEARNING_RATE)\n",
    "\n",
    "# Train the model\n",
    "history = train_model(model, train_loader, val_loader, criterion, optimizer, device)\n",
    "\n",
    "#Save the model and history\n",
    "torch.save(model.state_dict(), 'q3_LM.pt')\n",
    "with open('q3_history.pkl', 'wb') as f:\n",
    "    import pickle\n",
    "    pickle.dump(history, f)\n",
    "\n",
    "\n"
   ]
  },
  {
   "cell_type": "code",
   "execution_count": null,
   "metadata": {},
   "outputs": [],
   "source": [
    "def generate_text(model, tokenizer, vocab_obj, seed_text, max_length=50, temperature=1.0, device='cpu'):\n",
    "    model.eval()  # Set the model to evaluation mode\n",
    "    with torch.no_grad():\n",
    "        # Tokenize the seed text and convert to numericalized tokens\n",
    "        tokens = tokenizer(seed_text)\n",
    "        token_ids = torch.tensor([vocab_obj[token] for token in tokens], dtype=torch.long).unsqueeze(0).to(device)\n",
    "        \n",
    "        # Generate text iteratively\n",
    "        for _ in range(max_length):\n",
    "            # Pass the token_ids through the model\n",
    "            output = model(token_ids, return_attn=False)  # Ignore attention weights\n",
    "            logits = output[:, -1, :]  # Focus on the last token's predictions\n",
    "            \n",
    "            # Apply temperature scaling to logits\n",
    "            logits = logits / temperature\n",
    "            \n",
    "            # Convert logits to probabilities using softmax\n",
    "            probabilities = F.softmax(logits, dim=-1).squeeze()\n",
    "            \n",
    "            # Sample the next token from the probability distribution\n",
    "            next_token_id = torch.multinomial(probabilities, num_samples=1).item()\n",
    "            \n",
    "            # Break if the sampled token is the <pad> or <unk> token\n",
    "            if next_token_id == vocab_obj['<pad>'] or next_token_id == vocab_obj['<unk>']:\n",
    "                break\n",
    "            \n",
    "            # Append the next token to the sequence\n",
    "            token_ids = torch.cat([token_ids, torch.tensor([[next_token_id]], device=device)], dim=1)\n",
    "        \n",
    "        # Convert token IDs back to text\n",
    "        generated_tokens = [vocab_obj.lookup_token(token_id) for token_id in token_ids.squeeze().tolist()]\n",
    "        return ' '.join(generated_tokens)\n",
    "\n"
   ]
  },
  {
   "cell_type": "code",
   "execution_count": 93,
   "metadata": {},
   "outputs": [
    {
     "name": "stdout",
     "output_type": "stream",
     "text": [
      "Seed Text: Canada is known for\n",
      "Generated Text: canada is known for its september celebrations , and is the birthplace of chewing gum and punta rock . how many stars on the\n"
     ]
    }
   ],
   "source": [
    "model = TransformerLanguageModel(len(vocab_obj), num_layers=4).to(device)\n",
    "model.load_state_dict(torch.load('q3_LM.pt'))\n",
    "model.eval()\n",
    "\n",
    "# Example usage\n",
    "seed_text = \"Canada is known for\"\n",
    "generated_text = generate_text(model, tokenizer, vocab_obj, seed_text, max_length=20, temperature=0.8, device=device)\n",
    "print(f\"Seed Text: {seed_text}\")\n",
    "print(f\"Generated Text: {generated_text}\")\n"
   ]
  },
  {
   "cell_type": "code",
   "execution_count": 39,
   "metadata": {},
   "outputs": [
    {
     "data": {
      "image/png": "[encoded data removed]",
      "text/plain": [
       "<Figure size 640x480 with 1 Axes>"
      ]
     },
     "metadata": {},
     "output_type": "display_data"
    }
   ],
   "source": [
    "with open('q3_history.pkl', 'rb') as f:\n",
    "    history = pickle.load(f)\n",
    "\n",
    "# Plot example attention weights (e.g., for the last epoch)\n",
    "import matplotlib.pyplot as plt\n",
    "\n",
    "avg_attention_per_epoch = []\n",
    "for epoch_attn in history['attn_weights']:\n",
    "    epoch_avg = []\n",
    "    for layer in epoch_attn:\n",
    "        if isinstance(layer, list) or isinstance(layer, tuple):\n",
    "            layer_avg = torch.stack(layer).mean(dim=0)  # Average over heads\n",
    "        else:\n",
    "            layer_avg = layer.mean(dim=0)  # Already a single tensor\n",
    "\n",
    "        epoch_avg.append(layer_avg.mean().item())  # Average over all tokens\n",
    "    avg_attention_per_epoch.append(np.mean(epoch_avg))\n",
    "\n",
    "# Plot average attention over epochs\n",
    "plt.plot(range(1, len(avg_attention_per_epoch) + 1), avg_attention_per_epoch, marker='o')\n",
    "plt.title(\"Average Attention Weight Across All Tokens Over Epochs\")\n",
    "plt.xlabel(\"Epoch\")\n",
    "plt.ylabel(\"Average Attention\")\n",
    "plt.grid()\n",
    "plt.show()\n",
    "\n",
    "\n"
   ]
  }
 ],
 "metadata": {
  "kernelspec": {
   "display_name": "venv-3.10",
   "language": "python",
   "name": "python3"
  },
  "language_info": {
   "codemirror_mode": {
    "name": "ipython",
    "version": 3
   },
   "file_extension": ".py",
   "mimetype": "text/x-python",
   "name": "python",
   "nbconvert_exporter": "python",
   "pygments_lexer": "ipython3",
   "version": "3.10.15"
  }
 },
 "nbformat": 4,
 "nbformat_minor": 2
}
